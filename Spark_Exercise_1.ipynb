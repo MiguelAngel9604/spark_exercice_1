{
  "nbformat": 4,
  "nbformat_minor": 0,
  "metadata": {
    "colab": {
      "provenance": [],
      "collapsed_sections": [],
      "authorship_tag": "ABX9TyNDY/1DSSgdrixr8zRpQfRq",
      "include_colab_link": true
    },
    "kernelspec": {
      "name": "python3",
      "display_name": "Python 3"
    },
    "language_info": {
      "name": "python"
    }
  },
  "cells": [
    {
      "cell_type": "markdown",
      "metadata": {
        "id": "view-in-github",
        "colab_type": "text"
      },
      "source": [
        "<a href=\"https://colab.research.google.com/github/MiguelAngel9604/spark_exercice_1/blob/main/Spark_Exercise_1.ipynb\" target=\"_parent\"><img src=\"https://colab.research.google.com/assets/colab-badge.svg\" alt=\"Open In Colab\"/></a>"
      ]
    },
    {
      "cell_type": "markdown",
      "source": [
        "https://github.com/sravanapisupati/SampleDataSet/blob/main/CleansingCSVData.py\n",
        "https://www.youtube.com/watch?v=XuEQ_t93Ico"
      ],
      "metadata": {
        "id": "DsGNcJ0NiSgT"
      }
    },
    {
      "cell_type": "code",
      "execution_count": null,
      "metadata": {
        "id": "Y4yEP9B1cRRs"
      },
      "outputs": [],
      "source": [
        "# Pyspark\n",
        "!pip install pyspark\n",
        "# Pyspark stubs\n",
        "!pip install pyspark-stubs\n",
        "\n",
        "#Creating Spark session\n",
        "#I decided to use pyspark and pandas to do all the exercices and advantage of both, I'll be using the same session in all the questions and logic.\n",
        "from pyspark.sql import SparkSession\n",
        "from pyspark.sql import functions as f\n",
        "from pyspark.sql.functions import *\n",
        "from pyspark.sql.types import StringType, IntegerType\n",
        "import pyspark\n",
        "from pyspark import SparkContext\n",
        "from pyspark import SparkConf\n",
        "\n",
        "spark = SparkSession.builder \\\n",
        "    .master(\"local\") \\\n",
        "    .config(\"spark.sql.autoBroadcastJoinThreshold\", -1) \\\n",
        "    .config(\"spark.executor.memory\", \"500mb\") \\\n",
        "    .appName(\"Exercise1\") \\\n",
        "    .getOrCreate()"
      ]
    },
    {
      "cell_type": "code",
      "source": [
        "import pyspark.sql.functions as f\n",
        "\n",
        "df1 = spark.read.format(\"csv\").option(\"header\", \"true\").option(\"multiline\", \"true\").load(\"/content/user_data-3 - Hoja 1.csv\")\n",
        "df1.show()"
      ],
      "metadata": {
        "colab": {
          "base_uri": "https://localhost:8080/"
        },
        "id": "Y8FYIpW5dZAU",
        "outputId": "f5967277-bc80-4325-d4b6-6d617b4712ea"
      },
      "execution_count": 8,
      "outputs": [
        {
          "output_type": "stream",
          "name": "stdout",
          "text": [
            "+------------------------------------------------------+\n",
            "|id,ind,fname,lname,apartment,street,city,country,phone|\n",
            "+------------------------------------------------------+\n",
            "|                                           001,FN,John|\n",
            "|                                           001,LN,Wick|\n",
            "|                                  001,AD,22,Contine...|\n",
            "|                                     001,PH,9999999999|\n",
            "|                                       002,FN,Sherlock|\n",
            "|                                          002,LN,Homes|\n",
            "|                                  002,AD,44,Baker S...|\n",
            "|                                     002,PH,8888888888|\n",
            "|                                            003,FN,Ted|\n",
            "|                                          003,LN,Lasso|\n",
            "|                                  003,AD,AFC,Richmo...|\n",
            "|                                     003,PH,3336669990|\n",
            "|                                           004,FN,Star|\n",
            "|                                           004,LN,Lord|\n",
            "|                                               004,AD,|\n",
            "|                                               004,PH,|\n",
            "|                                          005,FN,Clark|\n",
            "|                                               005,LN,|\n",
            "|                                  005,AD,44,Daily P...|\n",
            "|                                     005,PH,1234567890|\n",
            "+------------------------------------------------------+\n",
            "only showing top 20 rows\n",
            "\n"
          ]
        }
      ]
    },
    {
      "cell_type": "code",
      "source": [
        "\n",
        "\n",
        "df = df1.withColumn(\"id\", f.split(f.col(\"id,ind,fname,lname,apartment,street,city,country,phone\"), ',').getItem(0)) \\\n",
        "       .withColumn('ind', f.split(f.col(\"id,ind,fname,lname,apartment,street,city,country,phone\"), ',').getItem(1)) \\\n",
        "       .withColumn('fname', f.split(f.col(\"id,ind,fname,lname,apartment,street,city,country,phone\"), ',').getItem(2)) \\\n",
        "       .withColumn('lname', f.split(f.col(\"id,ind,fname,lname,apartment,street,city,country,phone\"), ',').getItem(3)) \\\n",
        "       .withColumn('apartment', f.split(f.col(\"id,ind,fname,lname,apartment,street,city,country,phone\"), ',').getItem(4)) \\\n",
        "       .withColumn('street', f.split(f.col(\"id,ind,fname,lname,apartment,street,city,country,phone\"), ',').getItem(5)) \\\n",
        "       .withColumn('city', f.split(f.col(\"id,ind,fname,lname,apartment,street,city,country,phone\"), ',').getItem(6)) \\\n",
        "       .withColumn('country', f.split(f.col(\"id,ind,fname,lname,apartment,street,city,country,phone\"), ',').getItem(7)) \\\n",
        "       .withColumn('phone',f.split(f.col(\"id,ind,fname,lname,apartment,street,city,country,phone\"), ',').getItem(8))  \n",
        "df_1 = df.drop(col(\"id,ind,fname,lname,apartment,street,city,country,phone\"))\n",
        "df_1.show()"
      ],
      "metadata": {
        "colab": {
          "base_uri": "https://localhost:8080/"
        },
        "id": "NDhySZYYeg7n",
        "outputId": "9909f775-fdbc-45ec-971e-1994aaab38e8"
      },
      "execution_count": 31,
      "outputs": [
        {
          "output_type": "stream",
          "name": "stdout",
          "text": [
            "+---+---+----------+-----------------+-----------+------+----+-------+-----+\n",
            "| id|ind|     fname|            lname|  apartment|street|city|country|phone|\n",
            "+---+---+----------+-----------------+-----------+------+----+-------+-----+\n",
            "|001| FN|      John|             null|       null|  null|null|   null| null|\n",
            "|001| LN|      Wick|             null|       null|  null|null|   null| null|\n",
            "|001| AD|        22|Continental Hotel|   New York|   USA|null|   null| null|\n",
            "|001| PH|9999999999|             null|       null|  null|null|   null| null|\n",
            "|002| FN|  Sherlock|             null|       null|  null|null|   null| null|\n",
            "|002| LN|     Homes|             null|       null|  null|null|   null| null|\n",
            "|002| AD|        44|         Baker St|     London|    UK|null|   null| null|\n",
            "|002| PH|8888888888|             null|       null|  null|null|   null| null|\n",
            "|003| FN|       Ted|             null|       null|  null|null|   null| null|\n",
            "|003| LN|     Lasso|             null|       null|  null|null|   null| null|\n",
            "|003| AD|       AFC|         Richmond|     London|    UK|null|   null| null|\n",
            "|003| PH|3336669990|             null|       null|  null|null|   null| null|\n",
            "|004| FN|      Star|             null|       null|  null|null|   null| null|\n",
            "|004| LN|      Lord|             null|       null|  null|null|   null| null|\n",
            "|004| AD|          |             null|       null|  null|null|   null| null|\n",
            "|004| PH|          |             null|       null|  null|null|   null| null|\n",
            "|005| FN|     Clark|             null|       null|  null|null|   null| null|\n",
            "|005| LN|          |             null|       null|  null|null|   null| null|\n",
            "|005| AD|        44|     Daily Planet| Metropolis|   USA|null|   null| null|\n",
            "|005| PH|1234567890|             null|       null|  null|null|   null| null|\n",
            "+---+---+----------+-----------------+-----------+------+----+-------+-----+\n",
            "only showing top 20 rows\n",
            "\n"
          ]
        }
      ]
    },
    {
      "cell_type": "code",
      "source": [
        "df_2 = df_1.select(\"id\",\n",
        "                   f.when(col(\"ind\") == f.lit(\"FN\"), f.col(\"fname\")).otherwise(\"null\").alias(\"fname\"),\n",
        "                   f.when(col(\"ind\") == f.lit(\"LN\"), f.col(\"fname\")).otherwise(\"null\").alias(\"lname\"),\n",
        "                   f.when(col(\"ind\") == f.lit(\"AD\"), \n",
        "                          f.concat_ws(\",\",f.col(\"fname\"), f.col(\"lname\"), f.col(\"apartment\"), f.col(\"street\") )).otherwise(\"null\").alias(\"address\"),\n",
        "                   f.when(col(\"ind\") == f.lit(\"PH\"), f.col(\"fname\")).otherwise(\"null\").alias(\"phone\"))\n",
        "\n",
        "df_2.show()"
      ],
      "metadata": {
        "colab": {
          "base_uri": "https://localhost:8080/"
        },
        "id": "5dGSAgFciaH2",
        "outputId": "e3d1c601-dcee-464e-fde0-82e004678cec"
      },
      "execution_count": 47,
      "outputs": [
        {
          "output_type": "stream",
          "name": "stdout",
          "text": [
            "+---+--------+-----+--------------------+----------+\n",
            "| id|   fname|lname|             address|     phone|\n",
            "+---+--------+-----+--------------------+----------+\n",
            "|001|    John| null|                null|      null|\n",
            "|001|    null| Wick|                null|      null|\n",
            "|001|    null| null|22,Continental Ho...|      null|\n",
            "|001|    null| null|                null|9999999999|\n",
            "|002|Sherlock| null|                null|      null|\n",
            "|002|    null|Homes|                null|      null|\n",
            "|002|    null| null|44,Baker St, Lond...|      null|\n",
            "|002|    null| null|                null|8888888888|\n",
            "|003|     Ted| null|                null|      null|\n",
            "|003|    null|Lasso|                null|      null|\n",
            "|003|    null| null|AFC,Richmond, Lon...|      null|\n",
            "|003|    null| null|                null|3336669990|\n",
            "|004|    Star| null|                null|      null|\n",
            "|004|    null| Lord|                null|      null|\n",
            "|004|    null| null|                    |      null|\n",
            "|004|    null| null|                null|          |\n",
            "|005|   Clark| null|                null|      null|\n",
            "|005|    null|     |                null|      null|\n",
            "|005|    null| null|44,Daily Planet, ...|      null|\n",
            "|005|    null| null|                null|1234567890|\n",
            "+---+--------+-----+--------------------+----------+\n",
            "only showing top 20 rows\n",
            "\n"
          ]
        }
      ]
    },
    {
      "cell_type": "code",
      "source": [
        "df_3 = df_2.groupBy(\"id\").agg(\n",
        "    f.first(\"fname\").alias(\"fname\"),\n",
        "    f.min(\"lname\").alias(\"lname\"),\n",
        "    f.min(\"address\").alias(\"address\"),\n",
        "    f.min(\"phone\").alias(\"phone\")\n",
        "    )\n",
        "\n",
        "df_3.show()"
      ],
      "metadata": {
        "colab": {
          "base_uri": "https://localhost:8080/"
        },
        "id": "kBhxyHAlmLqH",
        "outputId": "29d90931-9ac6-4803-ef9a-994feee031eb"
      },
      "execution_count": 57,
      "outputs": [
        {
          "output_type": "stream",
          "name": "stdout",
          "text": [
            "+---+--------+------+--------------------+----------+\n",
            "| id|   fname| lname|             address|     phone|\n",
            "+---+--------+------+--------------------+----------+\n",
            "|009|Dundappa|  null|                null|      null|\n",
            "|006|   Bruce| Wayne|1007,Mountain Dri...|1111111111|\n",
            "|003|     Ted| Lasso|AFC,Richmond, Lon...|3336669990|\n",
            "|005|   Clark|      |44,Daily Planet, ...|1234567890|\n",
            "|008|        |Chavan|2013,Mallesh Paly...|          |\n",
            "|001|    John|  Wick|22,Continental Ho...|9999999999|\n",
            "|004|    Star|  Lord|                    |          |\n",
            "|007|  Sachin|Chavan|2013,Mallesh Paly...|1111111111|\n",
            "|002|Sherlock| Homes|44,Baker St, Lond...|8888888888|\n",
            "+---+--------+------+--------------------+----------+\n",
            "\n"
          ]
        }
      ]
    },
    {
      "cell_type": "code",
      "source": [
        "df_4 = df_3.filter(\n",
        "    (f.col(\"fname\") != \"null\") & (f.col(\"lname\") != \"null\")\n",
        ")\n",
        "\n",
        "df_4.show()"
      ],
      "metadata": {
        "colab": {
          "base_uri": "https://localhost:8080/"
        },
        "id": "L541rSYsnpH8",
        "outputId": "2daa4ba7-8dd9-42da-ce33-c9223d167165"
      },
      "execution_count": 62,
      "outputs": [
        {
          "output_type": "stream",
          "name": "stdout",
          "text": [
            "+---+--------+------+--------------------+----------+\n",
            "| id|   fname| lname|             address|     phone|\n",
            "+---+--------+------+--------------------+----------+\n",
            "|006|   Bruce| Wayne|1007,Mountain Dri...|1111111111|\n",
            "|003|     Ted| Lasso|AFC,Richmond, Lon...|3336669990|\n",
            "|005|   Clark|      |44,Daily Planet, ...|1234567890|\n",
            "|008|        |Chavan|2013,Mallesh Paly...|          |\n",
            "|001|    John|  Wick|22,Continental Ho...|9999999999|\n",
            "|004|    Star|  Lord|                    |          |\n",
            "|007|  Sachin|Chavan|2013,Mallesh Paly...|1111111111|\n",
            "|002|Sherlock| Homes|44,Baker St, Lond...|8888888888|\n",
            "+---+--------+------+--------------------+----------+\n",
            "\n"
          ]
        }
      ]
    },
    {
      "cell_type": "code",
      "source": [
        "df_5 = df_4.withColumn(\"apartment\",f.split(\"address\",\",\").getItem(0)) \\\n",
        "        .withColumn(\"street\",f.split(\"address\",\",\").getItem(1)) \\\n",
        "        .withColumn(\"city\",f.split(\"address\",\",\").getItem(2))\\\n",
        "        .withColumn(\"country\",f.split(\"address\",\",\").getItem(3)) \n",
        "        \n",
        "\n",
        "df_5.show()"
      ],
      "metadata": {
        "colab": {
          "base_uri": "https://localhost:8080/"
        },
        "id": "Nh-bw5FQoP9w",
        "outputId": "126e0c63-073f-4ca8-b2bf-bb80695d7a83"
      },
      "execution_count": 72,
      "outputs": [
        {
          "output_type": "stream",
          "name": "stdout",
          "text": [
            "+---+--------+------+--------------------+----------+---------+-----------------+-----------+-------+\n",
            "| id|   fname| lname|             address|     phone|apartment|           street|       city|country|\n",
            "+---+--------+------+--------------------+----------+---------+-----------------+-----------+-------+\n",
            "|006|   Bruce| Wayne|1007,Mountain Dri...|1111111111|     1007|   Mountain Drive|     Gotham|    USA|\n",
            "|003|     Ted| Lasso|AFC,Richmond, Lon...|3336669990|      AFC|         Richmond|     London|     UK|\n",
            "|005|   Clark|      |44,Daily Planet, ...|1234567890|       44|     Daily Planet| Metropolis|    USA|\n",
            "|008|        |Chavan|2013,Mallesh Paly...|          |     2013|    Mallesh Palya|  Karnataka|  India|\n",
            "|001|    John|  Wick|22,Continental Ho...|9999999999|       22|Continental Hotel|   New York|    USA|\n",
            "|004|    Star|  Lord|                    |          |         |             null|       null|   null|\n",
            "|007|  Sachin|Chavan|2013,Mallesh Paly...|1111111111|     2013|    Mallesh Palya|  Karnataka|  India|\n",
            "|002|Sherlock| Homes|44,Baker St, Lond...|8888888888|       44|         Baker St|     London|     UK|\n",
            "+---+--------+------+--------------------+----------+---------+-----------------+-----------+-------+\n",
            "\n"
          ]
        }
      ]
    },
    {
      "cell_type": "code",
      "source": [
        "df5.select(\"id\", \"fname\", \"lname\", \"apartment\", \"street\", \"city\", \"country\", \"phone\").show(truncate=False)"
      ],
      "metadata": {
        "colab": {
          "base_uri": "https://localhost:8080/"
        },
        "id": "H0qzPAZ-pUuj",
        "outputId": "fed0d017-c176-4adf-fd49-b58206643dbf"
      },
      "execution_count": 73,
      "outputs": [
        {
          "output_type": "stream",
          "name": "stdout",
          "text": [
            "+---+----------+-----------------+-----------+------+----+-------+-----+\n",
            "|id |fname     |lname            |apartment  |street|city|country|phone|\n",
            "+---+----------+-----------------+-----------+------+----+-------+-----+\n",
            "|001|John      |null             |null       |null  |null|null   |null |\n",
            "|001|Wick      |null             |null       |null  |null|null   |null |\n",
            "|001|22        |Continental Hotel| New York  | USA  |null|null   |null |\n",
            "|001|9999999999|null             |null       |null  |null|null   |null |\n",
            "|002|Sherlock  |null             |null       |null  |null|null   |null |\n",
            "|002|Homes     |null             |null       |null  |null|null   |null |\n",
            "|002|44        |Baker St         | London    | UK   |null|null   |null |\n",
            "|002|8888888888|null             |null       |null  |null|null   |null |\n",
            "|003|Ted       |null             |null       |null  |null|null   |null |\n",
            "|003|Lasso     |null             |null       |null  |null|null   |null |\n",
            "|003|AFC       |Richmond         | London    | UK   |null|null   |null |\n",
            "|003|3336669990|null             |null       |null  |null|null   |null |\n",
            "|004|Star      |null             |null       |null  |null|null   |null |\n",
            "|004|Lord      |null             |null       |null  |null|null   |null |\n",
            "|004|          |null             |null       |null  |null|null   |null |\n",
            "|004|          |null             |null       |null  |null|null   |null |\n",
            "|005|Clark     |null             |null       |null  |null|null   |null |\n",
            "|005|          |null             |null       |null  |null|null   |null |\n",
            "|005|44        |Daily Planet     | Metropolis| USA  |null|null   |null |\n",
            "|005|1234567890|null             |null       |null  |null|null   |null |\n",
            "+---+----------+-----------------+-----------+------+----+-------+-----+\n",
            "only showing top 20 rows\n",
            "\n"
          ]
        }
      ]
    }
  ]
}