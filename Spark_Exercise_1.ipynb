{
  "nbformat": 4,
  "nbformat_minor": 0,
  "metadata": {
    "colab": {
      "provenance": [],
      "collapsed_sections": [],
      "authorship_tag": "ABX9TyM3ndF97PCvteF2XaIrQfCD",
      "include_colab_link": true
    },
    "kernelspec": {
      "name": "python3",
      "display_name": "Python 3"
    },
    "language_info": {
      "name": "python"
    }
  },
  "cells": [
    {
      "cell_type": "markdown",
      "metadata": {
        "id": "view-in-github",
        "colab_type": "text"
      },
      "source": [
        "<a href=\"https://colab.research.google.com/github/MiguelAngel9604/spark_exercice_1/blob/main/Spark_Exercise_1.ipynb\" target=\"_parent\"><img src=\"https://colab.research.google.com/assets/colab-badge.svg\" alt=\"Open In Colab\"/></a>"
      ]
    },
    {
      "cell_type": "code",
      "execution_count": null,
      "metadata": {
        "id": "Y4yEP9B1cRRs"
      },
      "outputs": [],
      "source": [
        "# Pyspark\n",
        "!pip install pyspark\n",
        "# Pyspark stubs\n",
        "!pip install pyspark-stubs\n",
        "\n",
        "#Creating Spark session\n",
        "#I decided to use pyspark and pandas to do all the exercices and advantage of both, I'll be using the same session in all the questions and logic.\n",
        "from pyspark.sql import SparkSession\n",
        "from pyspark.sql import functions as f\n",
        "from pyspark.sql.functions import *\n",
        "from pyspark.sql.types import StringType, IntegerType\n",
        "import pyspark\n",
        "from pyspark import SparkContext\n",
        "from pyspark import SparkConf\n",
        "\n",
        "spark = SparkSession.builder \\\n",
        "    .master(\"local\") \\\n",
        "    .config(\"spark.sql.autoBroadcastJoinThreshold\", -1) \\\n",
        "    .config(\"spark.executor.memory\", \"500mb\") \\\n",
        "    .appName(\"Exercise1\") \\\n",
        "    .getOrCreate()"
      ]
    },
    {
      "cell_type": "code",
      "source": [
        "import pyspark.sql.functions as f\n",
        "\n",
        "df1 = spark.read.format(\"csv\").option(\"header\", \"true\").option(\"multiline\", \"true\").load(\"/content/user_data-3 - Hoja 1.csv\")\n",
        "df1.show()"
      ],
      "metadata": {
        "colab": {
          "base_uri": "https://localhost:8080/"
        },
        "id": "Y8FYIpW5dZAU",
        "outputId": "f5967277-bc80-4325-d4b6-6d617b4712ea"
      },
      "execution_count": 8,
      "outputs": [
        {
          "output_type": "stream",
          "name": "stdout",
          "text": [
            "+------------------------------------------------------+\n",
            "|id,ind,fname,lname,apartment,street,city,country,phone|\n",
            "+------------------------------------------------------+\n",
            "|                                           001,FN,John|\n",
            "|                                           001,LN,Wick|\n",
            "|                                  001,AD,22,Contine...|\n",
            "|                                     001,PH,9999999999|\n",
            "|                                       002,FN,Sherlock|\n",
            "|                                          002,LN,Homes|\n",
            "|                                  002,AD,44,Baker S...|\n",
            "|                                     002,PH,8888888888|\n",
            "|                                            003,FN,Ted|\n",
            "|                                          003,LN,Lasso|\n",
            "|                                  003,AD,AFC,Richmo...|\n",
            "|                                     003,PH,3336669990|\n",
            "|                                           004,FN,Star|\n",
            "|                                           004,LN,Lord|\n",
            "|                                               004,AD,|\n",
            "|                                               004,PH,|\n",
            "|                                          005,FN,Clark|\n",
            "|                                               005,LN,|\n",
            "|                                  005,AD,44,Daily P...|\n",
            "|                                     005,PH,1234567890|\n",
            "+------------------------------------------------------+\n",
            "only showing top 20 rows\n",
            "\n"
          ]
        }
      ]
    },
    {
      "cell_type": "code",
      "source": [
        "\n",
        "\n",
        "df = df1.withColumn(\"id\", f.split(f.col(\"id,ind,fname,lname,apartment,street,city,country,phone\"), ',').getItem(0)) \\\n",
        "       .withColumn('ind', f.split(f.col(\"id,ind,fname,lname,apartment,street,city,country,phone\"), ',').getItem(1)) \\\n",
        "       .withColumn('fname', f.split(f.col(\"id,ind,fname,lname,apartment,street,city,country,phone\"), ',').getItem(2)) \\\n",
        "       .withColumn('lname', f.split(f.col(\"id,ind,fname,lname,apartment,street,city,country,phone\"), ',').getItem(3)) \\\n",
        "       .withColumn('apartment', f.split(f.col(\"id,ind,fname,lname,apartment,street,city,country,phone\"), ',').getItem(4)) \\\n",
        "       .withColumn('street', f.split(f.col(\"id,ind,fname,lname,apartment,street,city,country,phone\"), ',').getItem(5)) \\\n",
        "       .withColumn('city', f.split(f.col(\"id,ind,fname,lname,apartment,street,city,country,phone\"), ',').getItem(6)) \\\n",
        "       .withColumn('country', f.split(f.col(\"id,ind,fname,lname,apartment,street,city,country,phone\"), ',').getItem(7)) \\\n",
        "       .withColumn('phone',f.split(f.col(\"id,ind,fname,lname,apartment,street,city,country,phone\"), ',').getItem(8))  \n",
        "df_1 = df.drop(col(\"id,ind,fname,lname,apartment,street,city,country,phone\"))\n",
        "df_1.show()\n",
        "\n",
        "\n",
        "\n"
      ],
      "metadata": {
        "colab": {
          "base_uri": "https://localhost:8080/"
        },
        "id": "NDhySZYYeg7n",
        "outputId": "d032a700-43d5-46e5-f1cc-01913fae6fe4"
      },
      "execution_count": 30,
      "outputs": [
        {
          "output_type": "stream",
          "name": "stdout",
          "text": [
            "+---+---+----------+-----------------+-----------+------+----+-------+-----+\n",
            "| id|ind|     fname|            lname|  apartment|street|city|country|phone|\n",
            "+---+---+----------+-----------------+-----------+------+----+-------+-----+\n",
            "|001| FN|      John|             null|       null|  null|null|   null| null|\n",
            "|001| LN|      Wick|             null|       null|  null|null|   null| null|\n",
            "|001| AD|        22|Continental Hotel|   New York|   USA|null|   null| null|\n",
            "|001| PH|9999999999|             null|       null|  null|null|   null| null|\n",
            "|002| FN|  Sherlock|             null|       null|  null|null|   null| null|\n",
            "|002| LN|     Homes|             null|       null|  null|null|   null| null|\n",
            "|002| AD|        44|         Baker St|     London|    UK|null|   null| null|\n",
            "|002| PH|8888888888|             null|       null|  null|null|   null| null|\n",
            "|003| FN|       Ted|             null|       null|  null|null|   null| null|\n",
            "|003| LN|     Lasso|             null|       null|  null|null|   null| null|\n",
            "|003| AD|       AFC|         Richmond|     London|    UK|null|   null| null|\n",
            "|003| PH|3336669990|             null|       null|  null|null|   null| null|\n",
            "|004| FN|      Star|             null|       null|  null|null|   null| null|\n",
            "|004| LN|      Lord|             null|       null|  null|null|   null| null|\n",
            "|004| AD|          |             null|       null|  null|null|   null| null|\n",
            "|004| PH|          |             null|       null|  null|null|   null| null|\n",
            "|005| FN|     Clark|             null|       null|  null|null|   null| null|\n",
            "|005| LN|          |             null|       null|  null|null|   null| null|\n",
            "|005| AD|        44|     Daily Planet| Metropolis|   USA|null|   null| null|\n",
            "|005| PH|1234567890|             null|       null|  null|null|   null| null|\n",
            "+---+---+----------+-----------------+-----------+------+----+-------+-----+\n",
            "only showing top 20 rows\n",
            "\n"
          ]
        }
      ]
    }
  ]
}