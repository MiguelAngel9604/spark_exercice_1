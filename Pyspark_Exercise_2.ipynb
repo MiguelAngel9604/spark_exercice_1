{
  "nbformat": 4,
  "nbformat_minor": 0,
  "metadata": {
    "colab": {
      "provenance": [],
      "authorship_tag": "ABX9TyOJ8KE7rmAUFccmzDVJ0Cdn",
      "include_colab_link": true
    },
    "kernelspec": {
      "name": "python3",
      "display_name": "Python 3"
    },
    "language_info": {
      "name": "python"
    }
  },
  "cells": [
    {
      "cell_type": "markdown",
      "metadata": {
        "id": "view-in-github",
        "colab_type": "text"
      },
      "source": [
        "<a href=\"https://colab.research.google.com/github/MiguelAngel9604/spark_exercice_1/blob/main/Pyspark_Exercise_2.ipynb\" target=\"_parent\"><img src=\"https://colab.research.google.com/assets/colab-badge.svg\" alt=\"Open In Colab\"/></a>"
      ]
    },
    {
      "cell_type": "code",
      "execution_count": null,
      "metadata": {
        "id": "NZZp-8MEw33y"
      },
      "outputs": [],
      "source": [
        "# Pyspark\n",
        "!pip install pyspark\n",
        "# Pyspark stubs\n",
        "!pip install pyspark-stubs"
      ]
    },
    {
      "cell_type": "code",
      "source": [
        "#Creating Spark session\n",
        "from pyspark.sql import SparkSession\n",
        "from pyspark.sql import functions as f\n",
        "from pyspark.sql.functions import *\n",
        "from pyspark.sql.types import StringType, IntegerType\n",
        "import pyspark\n",
        "from pyspark import SparkContext\n",
        "from pyspark import SparkConf\n",
        "\n",
        "spark = SparkSession.builder \\\n",
        "    .master(\"local\") \\\n",
        "    .config(\"spark.sql.autoBroadcastJoinThreshold\", -1) \\\n",
        "    .config(\"spark.executor.memory\", \"500mb\") \\\n",
        "    .appName(\"Exercise2\") \\\n",
        "    .getOrCreate()"
      ],
      "metadata": {
        "id": "N1nfU4AixEU4"
      },
      "execution_count": 3,
      "outputs": []
    },
    {
      "cell_type": "code",
      "source": [
        "df = spark.read.format(\"csv\").option(\"header\",\"true\").load(\"/content/Data exercise 2 - Hoja 1.csv\")\n",
        "df.show()"
      ],
      "metadata": {
        "colab": {
          "base_uri": "https://localhost:8080/"
        },
        "id": "BUpv_Ub7yDpd",
        "outputId": "1b4ecee0-59e4-4d61-c0c3-929b58e4066a"
      },
      "execution_count": 8,
      "outputs": [
        {
          "output_type": "stream",
          "name": "stdout",
          "text": [
            "+------------+-----------+\n",
            "|it's my name| birth/dob.|\n",
            "+------------+-----------+\n",
            "|       angel| 03-09-2020|\n",
            "|      miguel|   22-02-19|\n",
            "|        jose|02-Aug-2022|\n",
            "|        raul|29March2022|\n",
            "|       pedro|Mar/2020/22|\n",
            "+------------+-----------+\n",
            "\n"
          ]
        }
      ]
    }
  ]
}